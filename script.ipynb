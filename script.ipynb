{
 "cells": [
  {
   "attachments": {},
   "cell_type": "markdown",
   "metadata": {},
   "source": [
    "# Correlations in Economy data"
   ]
  },
  {
   "cell_type": "code",
   "execution_count": null,
   "metadata": {},
   "outputs": [],
   "source": [
    "# imports\n",
    "\n",
    "import pandas as pd \n",
    "import collections as cTools\n",
    "import itertools as iTools\n",
    "import numpy as np\n",
    "import plotly.graph_objects as go\n",
    "import os\n",
    "import seaborn as sns\n",
    "import matplotlib.pyplot as plt\n",
    "from scipy.stats import linregress\n"
   ]
  },
  {
   "attachments": {},
   "cell_type": "markdown",
   "metadata": {},
   "source": [
    "# ROAD INFRASTRUCTURE EXPENDITURE"
   ]
  },
  {
   "cell_type": "code",
   "execution_count": null,
   "metadata": {},
   "outputs": [],
   "source": [
    "# Read all data\n",
    "\n",
    "investment = pd.read_csv(r'C:\\Hari\\Q5_books\\143\\Project\\infrastructure\\investment.csv')\n",
    "maintenance = pd.read_csv(r'C:\\Hari\\Q5_books\\143\\Project\\infrastructure\\maintenance.csv')\n",
    "goodsTransport = pd.read_csv(r'C:\\Hari\\Q5_books\\143\\Project\\infrastructure\\goodsTransport.csv')"
   ]
  },
  {
   "cell_type": "code",
   "execution_count": null,
   "metadata": {},
   "outputs": [],
   "source": [
    "# Filter countries\n",
    "\n",
    "g20Countries = [\n",
    "    'Canada',\n",
    "    'France',\n",
    "    'India',\n",
    "    'Italy',\n",
    "    'Japan',\n",
    "    'Mexico',\n",
    "    'Korea',\n",
    "    'Türkiye',\n",
    "    'United Kingdom',\n",
    "    'United States',\n",
    "]"
   ]
  },
  {
   "cell_type": "code",
   "execution_count": null,
   "metadata": {},
   "outputs": [],
   "source": [
    "# Road way data Investment manipulation\n",
    "\n",
    "investSeries = investment[investment['VARIABLE']=='I-INV-RD']\n",
    "investSeries = investSeries.drop(columns=['COUNTRY','Variable','Measure','MEASURE','YEAR','Unit Code','Unit','PowerCode Code','PowerCode'])\n",
    "investSeries = investSeries.drop(columns = ['Reference Period Code','Reference Period','Flag Codes','Flags','VARIABLE'])\n",
    "mask = investSeries['Country'].str.contains('Moldova') | investSeries['Country'].str.contains('Netherlands') | investSeries['Country'].str.contains('Albania')\n",
    "investSeries = investSeries[~mask]\n",
    "investSeries['Country'] = pd.Categorical(investSeries['Country'])\n",
    "investSeries.set_index('Country')\n",
    "investSeries = investSeries.pivot_table(index='Country', columns='Year', values='Value', aggfunc='first')\n",
    "investSeries = investSeries.apply(pd.to_numeric, errors='coerce')\n",
    "investSeries.fillna(method='bfill', inplace=True)\n",
    "investSeries = investSeries.drop(index = 'Montenegro, Republic of')\n",
    "investSeries = investSeries.iloc[:,::3]\n",
    "g20InvestSeries = investSeries[investSeries.index.isin(g20Countries)]\n",
    "\n",
    "print('###########-> g20 Investment Series <- ###############')\n",
    "print(g20InvestSeries)\n"
   ]
  },
  {
   "cell_type": "code",
   "execution_count": null,
   "metadata": {},
   "outputs": [],
   "source": [
    "# Road way Maintenance manipulation\n",
    "\n",
    "goodsTransport = maintenance[maintenance['VARIABLE']=='I-MTN-RD']\n",
    "maintenanceSeries = goodsTransport.drop(columns=['COUNTRY','Variable','Measure','MEASURE','YEAR','Unit Code','Unit','PowerCode Code','PowerCode'])\n",
    "maintenanceSeries = maintenanceSeries.drop(columns = ['Reference Period Code','Reference Period','Flag Codes','Flags','VARIABLE'])\n",
    "mask = maintenanceSeries['Country'].str.contains('Moldova') | maintenanceSeries['Country'].str.contains('Netherlands')\n",
    "maintenanceSeries = maintenanceSeries[~mask]\n",
    "maintenanceSeries['Country'] = pd.Categorical(maintenanceSeries['Country'])\n",
    "maintenanceSeries.set_index('Country')\n",
    "maintenanceSeries = maintenanceSeries.pivot_table(index='Country', columns='Year', values='Value', aggfunc='first')\n",
    "maintenanceSeries = maintenanceSeries.apply(pd.to_numeric, errors='coerce')\n",
    "maintenanceSeries.fillna(method='ffill', inplace=True)\n",
    "maintenanceSeries = maintenanceSeries.iloc[:,::3]\n",
    "g20MaintenanceSeries = maintenanceSeries[maintenanceSeries.index.isin(g20Countries)]\n",
    "\n",
    "print('###########-> g20 maintenance Series <- ###############')\n",
    "print(g20MaintenanceSeries)"
   ]
  },
  {
   "cell_type": "code",
   "execution_count": null,
   "metadata": {},
   "outputs": [],
   "source": [
    "# Road way export manipulation\n",
    "goodsTransportSeries = goodsTransport[goodsTransport['VARIABLE']=='T-GOODS-RD-TOT']\n",
    "goodsTransportSeries = goodsTransportSeries.drop(columns=['COUNTRY','Variable','YEAR','Unit Code','Unit','PowerCode Code','PowerCode'])\n",
    "goodsTransportSeries = goodsTransportSeries.drop(columns = ['Reference Period Code','Reference Period','Flag Codes','Flags','VARIABLE'])\n",
    "goodsTransportSeries['Country'] = pd.Categorical(goodsTransportSeries['Country'])\n",
    "goodsTransportSeries.set_index('Country')\n",
    "goodsTransportSeries = goodsTransportSeries.pivot_table(index='Country', columns='Year', values='Value', aggfunc='first')\n",
    "goodsTransportSeries = goodsTransportSeries.apply(pd.to_numeric, errors='coerce')\n",
    "goodsTransportSeries.fillna(method='ffill', inplace=True)\n",
    "goodsTransportSeries = goodsTransportSeries.iloc[:,::3]\n",
    "goodsTransportSeries = goodsTransportSeries.drop(columns=[2021],axis=1)\n",
    "g20GoodsTransportSeries = goodsTransportSeries[goodsTransportSeries.index.isin(g20Countries)]\n",
    "print('###########-> g20 Transport load Series <- ###############')\n",
    "print(g20GoodsTransportSeries)"
   ]
  },
  {
   "cell_type": "code",
   "execution_count": null,
   "metadata": {},
   "outputs": [],
   "source": [
    "# Finding Correlation between investment and Trade\n",
    "investTransportCorr = g20InvestSeries.corrwith(g20GoodsTransportSeries, axis=1).sort_values()\n",
    "\n",
    "print('###########-> Correlation <- ###############')\n",
    "print(investTransportCorr)\n",
    "\n",
    "# Finding R squared value\n",
    "\n",
    "r2Values = []\n",
    "for i in range(len(g20InvestSeries)):\n",
    "    slope, intercept, r_value, p_value, std_err = linregress(g20InvestSeries.iloc[i], g20GoodsTransportSeries.iloc[i])\n",
    "    r2Values.append(r_value ** 2)\n",
    "\n",
    "print('###########-> Correlation <- ###############')\n",
    "print(r2Values)"
   ]
  },
  {
   "cell_type": "code",
   "execution_count": null,
   "metadata": {},
   "outputs": [],
   "source": [
    "# See how maintenance correlates with investment\n",
    "\n",
    "maintenanceInvestCorr = g20MaintenanceSeries.corrwith(g20InvestSeries, axis=1)\n",
    "print('###########-> Correlation <- ###############')\n",
    "print(maintenanceInvestCorr)\n",
    "\n",
    "# see how maintenance correlates with transport\n",
    "\n",
    "maintenanceTransportCorr = g20MaintenanceSeries.corrwith(g20GoodsTransportSeries, axis=1)\n",
    "print('###########-> Correlation <- ###############')\n",
    "print(maintenanceTransportCorr)\n"
   ]
  },
  {
   "cell_type": "code",
   "execution_count": 32,
   "metadata": {},
   "outputs": [
    {
     "data": {
      "application/vnd.plotly.v1+json": {
       "config": {
        "plotlyServerURL": "https://plot.ly"
       },
       "data": [
        {
         "marker": {
          "color": [
           -0.702635755192606,
           -0.2820773857668084,
           -0.11179150792026575,
           0.22236540497933652,
           0.6139078472878857,
           0.6632474891589316,
           0.6803131619488074,
           0.6955698898225422,
           0.7737421917715532,
           0.9336410478846331
          ],
          "colorbar": {
           "title": {
            "text": "Correlation"
           }
          },
          "colorscale": [
           [
            0,
            "#30123b"
           ],
           [
            0.07142857142857142,
            "#4145ab"
           ],
           [
            0.14285714285714285,
            "#4675ed"
           ],
           [
            0.21428571428571427,
            "#39a2fc"
           ],
           [
            0.2857142857142857,
            "#1bcfd4"
           ],
           [
            0.35714285714285715,
            "#24eca6"
           ],
           [
            0.42857142857142855,
            "#61fc6c"
           ],
           [
            0.5,
            "#a4fc3b"
           ],
           [
            0.5714285714285714,
            "#d1e834"
           ],
           [
            0.6428571428571429,
            "#f3c63a"
           ],
           [
            0.7142857142857143,
            "#fe9b2d"
           ],
           [
            0.7857142857142857,
            "#f36315"
           ],
           [
            0.8571428571428571,
            "#d93806"
           ],
           [
            0.9285714285714286,
            "#b11901"
           ],
           [
            1,
            "#7a0402"
           ]
          ],
          "opacity": 0.8,
          "reversescale": true,
          "size": [
           5.621086041540848,
           2.2566190861344673,
           0.894332063362126,
           1.7789232398346921,
           4.911262778303086,
           5.305979913271453,
           5.442505295590459,
           5.564559118580338,
           6.189937534172426,
           7.469128383077065
          ],
          "sizemode": "diameter",
          "sizeref": 0.1
         },
         "mode": "markers",
         "showlegend": false,
         "type": "scatter",
         "x": [
          "Korea",
          "United States",
          "United Kingdom",
          "France",
          "Canada",
          "Türkiye",
          "Italy",
          "Japan",
          "Mexico",
          "India"
         ],
         "y": [
          1,
          1,
          1,
          1,
          1,
          1,
          1,
          1,
          1,
          1
         ]
        },
        {
         "mode": "text",
         "showlegend": false,
         "text": [
          "Highest",
          "Lowest"
         ],
         "textfont": {
          "color": "white"
         },
         "textposition": "top center",
         "type": "scatter",
         "x": [
          "India",
          "Korea"
         ],
         "y": [
          1,
          1
         ]
        }
       ],
       "layout": {
        "template": {
         "data": {
          "bar": [
           {
            "error_x": {
             "color": "#2a3f5f"
            },
            "error_y": {
             "color": "#2a3f5f"
            },
            "marker": {
             "line": {
              "color": "#E5ECF6",
              "width": 0.5
             },
             "pattern": {
              "fillmode": "overlay",
              "size": 10,
              "solidity": 0.2
             }
            },
            "type": "bar"
           }
          ],
          "barpolar": [
           {
            "marker": {
             "line": {
              "color": "#E5ECF6",
              "width": 0.5
             },
             "pattern": {
              "fillmode": "overlay",
              "size": 10,
              "solidity": 0.2
             }
            },
            "type": "barpolar"
           }
          ],
          "carpet": [
           {
            "aaxis": {
             "endlinecolor": "#2a3f5f",
             "gridcolor": "white",
             "linecolor": "white",
             "minorgridcolor": "white",
             "startlinecolor": "#2a3f5f"
            },
            "baxis": {
             "endlinecolor": "#2a3f5f",
             "gridcolor": "white",
             "linecolor": "white",
             "minorgridcolor": "white",
             "startlinecolor": "#2a3f5f"
            },
            "type": "carpet"
           }
          ],
          "choropleth": [
           {
            "colorbar": {
             "outlinewidth": 0,
             "ticks": ""
            },
            "type": "choropleth"
           }
          ],
          "contour": [
           {
            "colorbar": {
             "outlinewidth": 0,
             "ticks": ""
            },
            "colorscale": [
             [
              0,
              "#0d0887"
             ],
             [
              0.1111111111111111,
              "#46039f"
             ],
             [
              0.2222222222222222,
              "#7201a8"
             ],
             [
              0.3333333333333333,
              "#9c179e"
             ],
             [
              0.4444444444444444,
              "#bd3786"
             ],
             [
              0.5555555555555556,
              "#d8576b"
             ],
             [
              0.6666666666666666,
              "#ed7953"
             ],
             [
              0.7777777777777778,
              "#fb9f3a"
             ],
             [
              0.8888888888888888,
              "#fdca26"
             ],
             [
              1,
              "#f0f921"
             ]
            ],
            "type": "contour"
           }
          ],
          "contourcarpet": [
           {
            "colorbar": {
             "outlinewidth": 0,
             "ticks": ""
            },
            "type": "contourcarpet"
           }
          ],
          "heatmap": [
           {
            "colorbar": {
             "outlinewidth": 0,
             "ticks": ""
            },
            "colorscale": [
             [
              0,
              "#0d0887"
             ],
             [
              0.1111111111111111,
              "#46039f"
             ],
             [
              0.2222222222222222,
              "#7201a8"
             ],
             [
              0.3333333333333333,
              "#9c179e"
             ],
             [
              0.4444444444444444,
              "#bd3786"
             ],
             [
              0.5555555555555556,
              "#d8576b"
             ],
             [
              0.6666666666666666,
              "#ed7953"
             ],
             [
              0.7777777777777778,
              "#fb9f3a"
             ],
             [
              0.8888888888888888,
              "#fdca26"
             ],
             [
              1,
              "#f0f921"
             ]
            ],
            "type": "heatmap"
           }
          ],
          "heatmapgl": [
           {
            "colorbar": {
             "outlinewidth": 0,
             "ticks": ""
            },
            "colorscale": [
             [
              0,
              "#0d0887"
             ],
             [
              0.1111111111111111,
              "#46039f"
             ],
             [
              0.2222222222222222,
              "#7201a8"
             ],
             [
              0.3333333333333333,
              "#9c179e"
             ],
             [
              0.4444444444444444,
              "#bd3786"
             ],
             [
              0.5555555555555556,
              "#d8576b"
             ],
             [
              0.6666666666666666,
              "#ed7953"
             ],
             [
              0.7777777777777778,
              "#fb9f3a"
             ],
             [
              0.8888888888888888,
              "#fdca26"
             ],
             [
              1,
              "#f0f921"
             ]
            ],
            "type": "heatmapgl"
           }
          ],
          "histogram": [
           {
            "marker": {
             "pattern": {
              "fillmode": "overlay",
              "size": 10,
              "solidity": 0.2
             }
            },
            "type": "histogram"
           }
          ],
          "histogram2d": [
           {
            "colorbar": {
             "outlinewidth": 0,
             "ticks": ""
            },
            "colorscale": [
             [
              0,
              "#0d0887"
             ],
             [
              0.1111111111111111,
              "#46039f"
             ],
             [
              0.2222222222222222,
              "#7201a8"
             ],
             [
              0.3333333333333333,
              "#9c179e"
             ],
             [
              0.4444444444444444,
              "#bd3786"
             ],
             [
              0.5555555555555556,
              "#d8576b"
             ],
             [
              0.6666666666666666,
              "#ed7953"
             ],
             [
              0.7777777777777778,
              "#fb9f3a"
             ],
             [
              0.8888888888888888,
              "#fdca26"
             ],
             [
              1,
              "#f0f921"
             ]
            ],
            "type": "histogram2d"
           }
          ],
          "histogram2dcontour": [
           {
            "colorbar": {
             "outlinewidth": 0,
             "ticks": ""
            },
            "colorscale": [
             [
              0,
              "#0d0887"
             ],
             [
              0.1111111111111111,
              "#46039f"
             ],
             [
              0.2222222222222222,
              "#7201a8"
             ],
             [
              0.3333333333333333,
              "#9c179e"
             ],
             [
              0.4444444444444444,
              "#bd3786"
             ],
             [
              0.5555555555555556,
              "#d8576b"
             ],
             [
              0.6666666666666666,
              "#ed7953"
             ],
             [
              0.7777777777777778,
              "#fb9f3a"
             ],
             [
              0.8888888888888888,
              "#fdca26"
             ],
             [
              1,
              "#f0f921"
             ]
            ],
            "type": "histogram2dcontour"
           }
          ],
          "mesh3d": [
           {
            "colorbar": {
             "outlinewidth": 0,
             "ticks": ""
            },
            "type": "mesh3d"
           }
          ],
          "parcoords": [
           {
            "line": {
             "colorbar": {
              "outlinewidth": 0,
              "ticks": ""
             }
            },
            "type": "parcoords"
           }
          ],
          "pie": [
           {
            "automargin": true,
            "type": "pie"
           }
          ],
          "scatter": [
           {
            "fillpattern": {
             "fillmode": "overlay",
             "size": 10,
             "solidity": 0.2
            },
            "type": "scatter"
           }
          ],
          "scatter3d": [
           {
            "line": {
             "colorbar": {
              "outlinewidth": 0,
              "ticks": ""
             }
            },
            "marker": {
             "colorbar": {
              "outlinewidth": 0,
              "ticks": ""
             }
            },
            "type": "scatter3d"
           }
          ],
          "scattercarpet": [
           {
            "marker": {
             "colorbar": {
              "outlinewidth": 0,
              "ticks": ""
             }
            },
            "type": "scattercarpet"
           }
          ],
          "scattergeo": [
           {
            "marker": {
             "colorbar": {
              "outlinewidth": 0,
              "ticks": ""
             }
            },
            "type": "scattergeo"
           }
          ],
          "scattergl": [
           {
            "marker": {
             "colorbar": {
              "outlinewidth": 0,
              "ticks": ""
             }
            },
            "type": "scattergl"
           }
          ],
          "scattermapbox": [
           {
            "marker": {
             "colorbar": {
              "outlinewidth": 0,
              "ticks": ""
             }
            },
            "type": "scattermapbox"
           }
          ],
          "scatterpolar": [
           {
            "marker": {
             "colorbar": {
              "outlinewidth": 0,
              "ticks": ""
             }
            },
            "type": "scatterpolar"
           }
          ],
          "scatterpolargl": [
           {
            "marker": {
             "colorbar": {
              "outlinewidth": 0,
              "ticks": ""
             }
            },
            "type": "scatterpolargl"
           }
          ],
          "scatterternary": [
           {
            "marker": {
             "colorbar": {
              "outlinewidth": 0,
              "ticks": ""
             }
            },
            "type": "scatterternary"
           }
          ],
          "surface": [
           {
            "colorbar": {
             "outlinewidth": 0,
             "ticks": ""
            },
            "colorscale": [
             [
              0,
              "#0d0887"
             ],
             [
              0.1111111111111111,
              "#46039f"
             ],
             [
              0.2222222222222222,
              "#7201a8"
             ],
             [
              0.3333333333333333,
              "#9c179e"
             ],
             [
              0.4444444444444444,
              "#bd3786"
             ],
             [
              0.5555555555555556,
              "#d8576b"
             ],
             [
              0.6666666666666666,
              "#ed7953"
             ],
             [
              0.7777777777777778,
              "#fb9f3a"
             ],
             [
              0.8888888888888888,
              "#fdca26"
             ],
             [
              1,
              "#f0f921"
             ]
            ],
            "type": "surface"
           }
          ],
          "table": [
           {
            "cells": {
             "fill": {
              "color": "#EBF0F8"
             },
             "line": {
              "color": "white"
             }
            },
            "header": {
             "fill": {
              "color": "#C8D4E3"
             },
             "line": {
              "color": "white"
             }
            },
            "type": "table"
           }
          ]
         },
         "layout": {
          "annotationdefaults": {
           "arrowcolor": "#2a3f5f",
           "arrowhead": 0,
           "arrowwidth": 1
          },
          "autotypenumbers": "strict",
          "coloraxis": {
           "colorbar": {
            "outlinewidth": 0,
            "ticks": ""
           }
          },
          "colorscale": {
           "diverging": [
            [
             0,
             "#8e0152"
            ],
            [
             0.1,
             "#c51b7d"
            ],
            [
             0.2,
             "#de77ae"
            ],
            [
             0.3,
             "#f1b6da"
            ],
            [
             0.4,
             "#fde0ef"
            ],
            [
             0.5,
             "#f7f7f7"
            ],
            [
             0.6,
             "#e6f5d0"
            ],
            [
             0.7,
             "#b8e186"
            ],
            [
             0.8,
             "#7fbc41"
            ],
            [
             0.9,
             "#4d9221"
            ],
            [
             1,
             "#276419"
            ]
           ],
           "sequential": [
            [
             0,
             "#0d0887"
            ],
            [
             0.1111111111111111,
             "#46039f"
            ],
            [
             0.2222222222222222,
             "#7201a8"
            ],
            [
             0.3333333333333333,
             "#9c179e"
            ],
            [
             0.4444444444444444,
             "#bd3786"
            ],
            [
             0.5555555555555556,
             "#d8576b"
            ],
            [
             0.6666666666666666,
             "#ed7953"
            ],
            [
             0.7777777777777778,
             "#fb9f3a"
            ],
            [
             0.8888888888888888,
             "#fdca26"
            ],
            [
             1,
             "#f0f921"
            ]
           ],
           "sequentialminus": [
            [
             0,
             "#0d0887"
            ],
            [
             0.1111111111111111,
             "#46039f"
            ],
            [
             0.2222222222222222,
             "#7201a8"
            ],
            [
             0.3333333333333333,
             "#9c179e"
            ],
            [
             0.4444444444444444,
             "#bd3786"
            ],
            [
             0.5555555555555556,
             "#d8576b"
            ],
            [
             0.6666666666666666,
             "#ed7953"
            ],
            [
             0.7777777777777778,
             "#fb9f3a"
            ],
            [
             0.8888888888888888,
             "#fdca26"
            ],
            [
             1,
             "#f0f921"
            ]
           ]
          },
          "colorway": [
           "#636efa",
           "#EF553B",
           "#00cc96",
           "#ab63fa",
           "#FFA15A",
           "#19d3f3",
           "#FF6692",
           "#B6E880",
           "#FF97FF",
           "#FECB52"
          ],
          "font": {
           "color": "#2a3f5f"
          },
          "geo": {
           "bgcolor": "white",
           "lakecolor": "white",
           "landcolor": "#E5ECF6",
           "showlakes": true,
           "showland": true,
           "subunitcolor": "white"
          },
          "hoverlabel": {
           "align": "left"
          },
          "hovermode": "closest",
          "mapbox": {
           "style": "light"
          },
          "paper_bgcolor": "white",
          "plot_bgcolor": "#E5ECF6",
          "polar": {
           "angularaxis": {
            "gridcolor": "white",
            "linecolor": "white",
            "ticks": ""
           },
           "bgcolor": "#E5ECF6",
           "radialaxis": {
            "gridcolor": "white",
            "linecolor": "white",
            "ticks": ""
           }
          },
          "scene": {
           "xaxis": {
            "backgroundcolor": "#E5ECF6",
            "gridcolor": "white",
            "gridwidth": 2,
            "linecolor": "white",
            "showbackground": true,
            "ticks": "",
            "zerolinecolor": "white"
           },
           "yaxis": {
            "backgroundcolor": "#E5ECF6",
            "gridcolor": "white",
            "gridwidth": 2,
            "linecolor": "white",
            "showbackground": true,
            "ticks": "",
            "zerolinecolor": "white"
           },
           "zaxis": {
            "backgroundcolor": "#E5ECF6",
            "gridcolor": "white",
            "gridwidth": 2,
            "linecolor": "white",
            "showbackground": true,
            "ticks": "",
            "zerolinecolor": "white"
           }
          },
          "shapedefaults": {
           "line": {
            "color": "#2a3f5f"
           }
          },
          "ternary": {
           "aaxis": {
            "gridcolor": "white",
            "linecolor": "white",
            "ticks": ""
           },
           "baxis": {
            "gridcolor": "white",
            "linecolor": "white",
            "ticks": ""
           },
           "bgcolor": "#E5ECF6",
           "caxis": {
            "gridcolor": "white",
            "linecolor": "white",
            "ticks": ""
           }
          },
          "title": {
           "x": 0.05
          },
          "xaxis": {
           "automargin": true,
           "gridcolor": "white",
           "linecolor": "white",
           "ticks": "",
           "title": {
            "standoff": 15
           },
           "zerolinecolor": "white",
           "zerolinewidth": 2
          },
          "yaxis": {
           "automargin": true,
           "gridcolor": "white",
           "linecolor": "white",
           "ticks": "",
           "title": {
            "standoff": 15
           },
           "zerolinecolor": "white",
           "zerolinewidth": 2
          }
         }
        },
        "title": {
         "text": "Bubble Plot Example"
        },
        "xaxis": {
         "title": {
          "text": "Country"
         }
        },
        "yaxis": {
         "title": {
          "text": "Y-axis"
         }
        }
       }
      }
     },
     "metadata": {},
     "output_type": "display_data"
    }
   ],
   "source": [
    "# Plots of Correlation investment and Trade transport volume\n",
    "fig = go.Figure(data=go.Scatter(\n",
    "    x=investTransportCorr.index,\n",
    "    y=[1] * len(investTransportCorr), # Set y-axis to 1 to plot bubbles along the x-axis\n",
    "    mode='markers',\n",
    "    showlegend=False,\n",
    "    marker=dict(\n",
    "        size=abs(investTransportCorr)*8,  # Bubble size based on absolute value of correlation, scaled for display\n",
    "        color=investTransportCorr,            # Bubble color based on correlation\n",
    "        colorscale='Turbo',          # Choose a color scale (optional)\n",
    "        sizemode='diameter',\n",
    "        sizeref=0.1,\n",
    "        opacity=0.8,\n",
    "        reversescale=True,\n",
    "        colorbar=dict(\n",
    "            title='Correlation'       # Title of the colorbar\n",
    "        ),\n",
    "    )\n",
    "))\n",
    "\n",
    "# Update the layout with axis titles and chart title\n",
    "fig.update_layout(\n",
    "    xaxis_title='Country',\n",
    "    yaxis_title='Y-axis',\n",
    "    title='Bubble Plot Example'\n",
    ")\n",
    "\n",
    "# Find the index of the bubble with the highest and lowest correlation\n",
    "highest_index = investTransportCorr.idxmax()\n",
    "lowest_index = investTransportCorr.idxmin()\n",
    "\n",
    "fig.add_trace(\n",
    "    go.Scatter(\n",
    "        x=[highest_index,lowest_index],\n",
    "        y=[1, 1],\n",
    "        text=['Highest','Lowest'],\n",
    "        mode=\"text\",\n",
    "        textposition=\"top center\",\n",
    "        textfont=dict(color=\"white\"),\n",
    "        showlegend=False\n",
    "    )\n",
    ")\n",
    "\n",
    "\n",
    "\n",
    "# Show the chart\n",
    "fig.show()\n",
    "\n"
   ]
  }
 ],
 "metadata": {
  "kernelspec": {
   "display_name": "base",
   "language": "python",
   "name": "python3"
  },
  "language_info": {
   "codemirror_mode": {
    "name": "ipython",
    "version": 3
   },
   "file_extension": ".py",
   "mimetype": "text/x-python",
   "name": "python",
   "nbconvert_exporter": "python",
   "pygments_lexer": "ipython3",
   "version": "3.9.13"
  },
  "orig_nbformat": 4
 },
 "nbformat": 4,
 "nbformat_minor": 2
}
